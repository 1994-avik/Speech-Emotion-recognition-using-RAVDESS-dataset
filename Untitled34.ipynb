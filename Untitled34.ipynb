{
 "cells": [
  {
   "cell_type": "code",
   "execution_count": 1,
   "id": "0a17d14d-268a-45da-a15e-e610014626c3",
   "metadata": {},
   "outputs": [],
   "source": [
    "import librosa\n",
    "import soundfile\n",
    "import os,glob,pickle\n",
    "import numpy as np\n",
    "from sklearn.model_selection import train_test_split\n",
    "from sklearn.neural_network import MLPClassifier\n",
    "from sklearn.metrics import accuracy_score"
   ]
  },
  {
   "cell_type": "code",
   "execution_count": 1,
   "id": "069fe5ad-867c-4f58-bf98-a8d3cfefbb42",
   "metadata": {},
   "outputs": [],
   "source": [
    "def extract_feature(file_name,mfcc,chroma,mel):\n",
    "    with soundfile.SoundFile(file_name) as sound_file:\n",
    "        X = sound_file.read(dtype=\"float32\")\n",
    "        sample_rate = sound_file.samplerate\n",
    "        \n",
    "        if chroma:\n",
    "            stft=np.abs(librosa.stft(X))\n",
    "            result=np.array([])\n",
    "        if mfcc:\n",
    "            mfccs=np.mean(librosa.feature.mfcc(y=X,sr=sample_rate,n_mfcc=40).T,axis=0)\n",
    "            result=np.hstack((result,mfccs))\n",
    "        if chroma:\n",
    "            chroma=np.mean(librosa.feature.chroma_stft(S=stft,sr=sample_rate,).T,axis=0)\n",
    "            result=np.hstack((result,chroma))\n",
    "        if mel:\n",
    "            mel=np.mean(librosa.feature.melspectrogram(X,sr=sample_rate).T,axis=0)\n",
    "            result=np.hstack((result,mel))\n",
    "            \n",
    "    return result     \n",
    "            "
   ]
  },
  {
   "cell_type": "code",
   "execution_count": 2,
   "id": "3312c02b-e708-469c-aa92-3954733a598d",
   "metadata": {},
   "outputs": [],
   "source": [
    "emotions={\n",
    "    '01':'neutral',\n",
    "    '02':'calm',\n",
    "    '03':'happy',\n",
    "    '04':'sad',\n",
    "    '05':'angry',\n",
    "    '06':'fearful',\n",
    "    '07':'disgust',\n",
    "    '08':'surprised'\n",
    "}\n",
    "observed_emotions=['calm','happy','fearful','disgust']"
   ]
  },
  {
   "cell_type": "code",
   "execution_count": 4,
   "id": "348bff2c-c505-4261-9d44-c4af2aa4a8b4",
   "metadata": {},
   "outputs": [],
   "source": [
    "def load_data(test_size=0.2):\n",
    "    x,y=[],[]\n",
    "    for file in glob.glob(\"C:/Users/avika/Documents/Machine Learning/ravdess data//Actor_*//*.wav\"):\n",
    "        file_name=os.path.basename(file)\n",
    "        emotion=emotions[file_name.split(\"-\")[2]]\n",
    "        if emotion not in observed_emotions:\n",
    "            continue\n",
    "        feature=extract_feature(file,mfcc=True,chroma=True,mel=True)\n",
    "        x.append(feature)\n",
    "        y.append(emotion)\n",
    "    return train_test_split(np.array(x),y,test_size=test_size,random_state=9)    \n",
    "            "
   ]
  },
  {
   "cell_type": "code",
   "execution_count": 5,
   "id": "78b6ea98-1b74-493d-bdd3-6d422b4f4c69",
   "metadata": {},
   "outputs": [],
   "source": [
    "x_train,x_test,y_train,y_test = load_data(test_size=0.25)"
   ]
  },
  {
   "cell_type": "code",
   "execution_count": 6,
   "id": "ce40453e-9320-49b3-9e4d-fd0c7249fee2",
   "metadata": {},
   "outputs": [
    {
     "name": "stdout",
     "output_type": "stream",
     "text": [
      "(576, 192)\n"
     ]
    }
   ],
   "source": [
    "print((x_train.shape[0],x_test.shape[0]))"
   ]
  },
  {
   "cell_type": "code",
   "execution_count": 7,
   "id": "059eeeb0-3972-4f66-be34-a16e5ffebcac",
   "metadata": {},
   "outputs": [
    {
     "name": "stdout",
     "output_type": "stream",
     "text": [
      "Features extracted:180\n"
     ]
    }
   ],
   "source": [
    "print(f'Features extracted:{x_train.shape[1]}')"
   ]
  },
  {
   "cell_type": "code",
   "execution_count": 8,
   "id": "0f267602-dd74-48f8-b5e8-d8358e0390b0",
   "metadata": {},
   "outputs": [],
   "source": [
    "model = MLPClassifier(alpha=0.01, batch_size=256, epsilon=1e-08, hidden_layer_sizes=(300,), learning_rate='adaptive', max_iter=500)"
   ]
  },
  {
   "cell_type": "code",
   "execution_count": 9,
   "id": "fe5b8b02-cd8c-4349-8d23-318c5446c7eb",
   "metadata": {},
   "outputs": [
    {
     "data": {
      "text/plain": [
       "MLPClassifier(alpha=0.01, batch_size=256, hidden_layer_sizes=(300,),\n",
       "              learning_rate='adaptive', max_iter=500)"
      ]
     },
     "execution_count": 9,
     "metadata": {},
     "output_type": "execute_result"
    }
   ],
   "source": [
    "model.fit(x_train,y_train)"
   ]
  },
  {
   "cell_type": "code",
   "execution_count": 12,
   "id": "719f26cb-35c4-479f-ad5c-ae5ab4bb20ae",
   "metadata": {},
   "outputs": [
    {
     "data": {
      "text/plain": [
       "array(['happy', 'fearful', 'happy', 'happy', 'disgust', 'calm', 'disgust',\n",
       "       'disgust', 'calm', 'fearful', 'happy', 'calm', 'fearful', 'happy',\n",
       "       'disgust', 'happy', 'calm', 'disgust', 'happy', 'calm', 'disgust',\n",
       "       'disgust', 'disgust', 'calm', 'happy', 'happy', 'fearful', 'happy',\n",
       "       'fearful', 'fearful', 'happy', 'disgust', 'happy', 'fearful',\n",
       "       'happy', 'disgust', 'calm', 'fearful', 'calm', 'disgust', 'happy',\n",
       "       'disgust', 'fearful', 'calm', 'fearful', 'disgust', 'disgust',\n",
       "       'calm', 'calm', 'happy', 'fearful', 'fearful', 'fearful',\n",
       "       'fearful', 'disgust', 'fearful', 'disgust', 'happy', 'calm',\n",
       "       'calm', 'disgust', 'calm', 'happy', 'calm', 'disgust', 'calm',\n",
       "       'happy', 'disgust', 'fearful', 'happy', 'fearful', 'fearful',\n",
       "       'fearful', 'fearful', 'fearful', 'disgust', 'fearful', 'happy',\n",
       "       'fearful', 'fearful', 'disgust', 'calm', 'fearful', 'calm',\n",
       "       'disgust', 'fearful', 'disgust', 'fearful', 'happy', 'fearful',\n",
       "       'disgust', 'fearful', 'disgust', 'happy', 'disgust', 'fearful',\n",
       "       'calm', 'calm', 'fearful', 'disgust', 'fearful', 'fearful',\n",
       "       'disgust', 'fearful', 'disgust', 'calm', 'disgust', 'disgust',\n",
       "       'fearful', 'happy', 'happy', 'calm', 'calm', 'fearful', 'fearful',\n",
       "       'disgust', 'disgust', 'happy', 'calm', 'fearful', 'disgust',\n",
       "       'calm', 'disgust', 'happy', 'fearful', 'disgust', 'disgust',\n",
       "       'fearful', 'calm', 'calm', 'fearful', 'fearful', 'happy',\n",
       "       'disgust', 'disgust', 'fearful', 'fearful', 'disgust', 'fearful',\n",
       "       'happy', 'calm', 'fearful', 'fearful', 'happy', 'happy', 'fearful',\n",
       "       'disgust', 'fearful', 'fearful', 'calm', 'calm', 'happy', 'happy',\n",
       "       'calm', 'happy', 'calm', 'fearful', 'disgust', 'disgust',\n",
       "       'disgust', 'disgust', 'calm', 'calm', 'calm', 'disgust', 'fearful',\n",
       "       'fearful', 'fearful', 'calm', 'fearful', 'happy', 'fearful',\n",
       "       'disgust', 'disgust', 'happy', 'fearful', 'calm', 'fearful',\n",
       "       'fearful', 'happy', 'disgust', 'fearful', 'fearful', 'calm',\n",
       "       'disgust', 'fearful', 'happy', 'fearful', 'happy', 'happy',\n",
       "       'disgust', 'calm'], dtype='<U7')"
      ]
     },
     "execution_count": 12,
     "metadata": {},
     "output_type": "execute_result"
    }
   ],
   "source": [
    "y_pred = model.predict(x_test)\n",
    "y_pred "
   ]
  },
  {
   "cell_type": "code",
   "execution_count": 11,
   "id": "5f6fa76a-d71a-4338-bc5d-72fcf24d560f",
   "metadata": {},
   "outputs": [
    {
     "name": "stdout",
     "output_type": "stream",
     "text": [
      "Accuracy:63.02%\n"
     ]
    }
   ],
   "source": [
    "accuracy = accuracy_score(y_true=y_test,y_pred=y_pred)\n",
    "print(\"Accuracy:{:.2f}%\".format(accuracy*100))"
   ]
  },
  {
   "cell_type": "code",
   "execution_count": null,
   "id": "53d25782-1594-4d7c-92ca-cae2bbf2a844",
   "metadata": {},
   "outputs": [],
   "source": []
  }
 ],
 "metadata": {
  "kernelspec": {
   "display_name": "Python 3",
   "language": "python",
   "name": "python3"
  },
  "language_info": {
   "codemirror_mode": {
    "name": "ipython",
    "version": 3
   },
   "file_extension": ".py",
   "mimetype": "text/x-python",
   "name": "python",
   "nbconvert_exporter": "python",
   "pygments_lexer": "ipython3",
   "version": "3.8.8"
  }
 },
 "nbformat": 4,
 "nbformat_minor": 5
}
